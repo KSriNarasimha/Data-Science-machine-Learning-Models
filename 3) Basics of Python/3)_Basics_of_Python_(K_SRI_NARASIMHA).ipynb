{
  "nbformat": 4,
  "nbformat_minor": 0,
  "metadata": {
    "colab": {
      "provenance": []
    },
    "kernelspec": {
      "name": "python3",
      "display_name": "Python 3"
    },
    "language_info": {
      "name": "python"
    }
  },
  "cells": [
    {
      "cell_type": "markdown",
      "source": [
        "# **Basics of Python**"
      ],
      "metadata": {
        "id": "RDTflC40mVMm"
      }
    },
    {
      "cell_type": "markdown",
      "source": [
        "# **Exercise 1: Prime Numbers**"
      ],
      "metadata": {
        "id": "RtxJFPSomcb7"
      }
    },
    {
      "cell_type": "code",
      "execution_count": null,
      "metadata": {
        "colab": {
          "base_uri": "https://localhost:8080/"
        },
        "id": "e4lzNKC-mLnU",
        "outputId": "1f0f3a5a-727d-4026-886c-c7a3615a0aba"
      },
      "outputs": [
        {
          "output_type": "stream",
          "name": "stdout",
          "text": [
            "29 is prime: True\n"
          ]
        }
      ],
      "source": [
        "def is_prime(n):\n",
        "    \"\"\"Check if a number is prime.\"\"\"\n",
        "    if n <= 1:\n",
        "        return False\n",
        "    for i in range(2, int(n**0.5) + 1):\n",
        "        if n % i == 0:\n",
        "            return False\n",
        "    return True\n",
        "\n",
        "# Example usage\n",
        "number = 29\n",
        "print(f\"{number} is prime: {is_prime(number)}\")\n"
      ]
    },
    {
      "cell_type": "markdown",
      "source": [
        "# **Exercise 2: Product of Random Numbers**"
      ],
      "metadata": {
        "id": "SkMHEM44myEB"
      }
    },
    {
      "cell_type": "code",
      "source": [
        "import random\n",
        "\n",
        "def check_product():\n",
        "    \"\"\"Generate two random numbers and check user's answer for their product.\"\"\"\n",
        "    num1 = random.randint(1, 10)\n",
        "    num2 = random.randint(1, 10)\n",
        "    correct_product = num1 * num2\n",
        "\n",
        "    print(f\"Guess the product of {num1} and {num2}:\")\n",
        "    user_input = int(input(\"Your answer: \"))\n",
        "\n",
        "    if user_input == correct_product:\n",
        "        print(\"Correct!\")\n",
        "    else:\n",
        "        print(f\"Wrong! The correct product is {correct_product}.\")\n",
        "\n",
        "# Example usage\n",
        "check_product()\n"
      ],
      "metadata": {
        "colab": {
          "base_uri": "https://localhost:8080/"
        },
        "id": "p85E-LFQmf66",
        "outputId": "6271badf-dda4-4baa-b947-2443bf0f37ba"
      },
      "execution_count": null,
      "outputs": [
        {
          "output_type": "stream",
          "name": "stdout",
          "text": [
            "Guess the product of 1 and 4:\n",
            "Your answer: 200\n",
            "Wrong! The correct product is 4.\n"
          ]
        }
      ]
    },
    {
      "cell_type": "markdown",
      "source": [
        "# **Exercise 3: Squares of Even/Odd**"
      ],
      "metadata": {
        "id": "uaH7Eqs2nuV0"
      }
    },
    {
      "cell_type": "code",
      "source": [
        "def squares_of_even():\n",
        "    \"\"\"Print squares of even numbers from 100 to 200.\"\"\"\n",
        "    print(\"Squares of even numbers from 100 to 200:\")\n",
        "    for number in range(100, 201):\n",
        "        if number % 2 == 0:  # Check if the number is even\n",
        "            print(f\"{number}^2 = {number**2}\")\n",
        "\n",
        "# Example usage\n",
        "squares_of_even()\n"
      ],
      "metadata": {
        "colab": {
          "base_uri": "https://localhost:8080/"
        },
        "id": "kGxbOwI_m1kQ",
        "outputId": "15c03ffd-3cae-4847-bca6-b7d3e2d7322c"
      },
      "execution_count": null,
      "outputs": [
        {
          "output_type": "stream",
          "name": "stdout",
          "text": [
            "Squares of even numbers from 100 to 200:\n",
            "100^2 = 10000\n",
            "102^2 = 10404\n",
            "104^2 = 10816\n",
            "106^2 = 11236\n",
            "108^2 = 11664\n",
            "110^2 = 12100\n",
            "112^2 = 12544\n",
            "114^2 = 12996\n",
            "116^2 = 13456\n",
            "118^2 = 13924\n",
            "120^2 = 14400\n",
            "122^2 = 14884\n",
            "124^2 = 15376\n",
            "126^2 = 15876\n",
            "128^2 = 16384\n",
            "130^2 = 16900\n",
            "132^2 = 17424\n",
            "134^2 = 17956\n",
            "136^2 = 18496\n",
            "138^2 = 19044\n",
            "140^2 = 19600\n",
            "142^2 = 20164\n",
            "144^2 = 20736\n",
            "146^2 = 21316\n",
            "148^2 = 21904\n",
            "150^2 = 22500\n",
            "152^2 = 23104\n",
            "154^2 = 23716\n",
            "156^2 = 24336\n",
            "158^2 = 24964\n",
            "160^2 = 25600\n",
            "162^2 = 26244\n",
            "164^2 = 26896\n",
            "166^2 = 27556\n",
            "168^2 = 28224\n",
            "170^2 = 28900\n",
            "172^2 = 29584\n",
            "174^2 = 30276\n",
            "176^2 = 30976\n",
            "178^2 = 31684\n",
            "180^2 = 32400\n",
            "182^2 = 33124\n",
            "184^2 = 33856\n",
            "186^2 = 34596\n",
            "188^2 = 35344\n",
            "190^2 = 36100\n",
            "192^2 = 36864\n",
            "194^2 = 37636\n",
            "196^2 = 38416\n",
            "198^2 = 39204\n",
            "200^2 = 40000\n"
          ]
        }
      ]
    },
    {
      "cell_type": "markdown",
      "source": [
        "# **Exercise 4: Word Counter**"
      ],
      "metadata": {
        "id": "rSzNHo3Qn906"
      }
    },
    {
      "cell_type": "code",
      "source": [
        "def word_counter(text):\n",
        "    \"\"\"Count the number of words in a given text.\"\"\"\n",
        "    words = text.split()\n",
        "    word_count = {}\n",
        "\n",
        "    for word in words:\n",
        "        word = word.strip('.,!?\"\\'').lower()  # Clean up punctuation and convert to lower case\n",
        "        if word in word_count:\n",
        "            word_count[word] += 1\n",
        "        else:\n",
        "            word_count[word] = 1\n",
        "\n",
        "    return word_count\n",
        "\n",
        "# Example usage\n",
        "input_text = \"This is a sample text. This text will be used to demonstrate the word counter.\"\n",
        "word_counts = word_counter(input_text)\n",
        "for word, count in word_counts.items():\n",
        "    print(f\"'{word}': {count}\")\n"
      ],
      "metadata": {
        "colab": {
          "base_uri": "https://localhost:8080/"
        },
        "id": "IBS3LliQn3Kr",
        "outputId": "b510939b-6be7-47d0-e885-c03bba30fffa"
      },
      "execution_count": null,
      "outputs": [
        {
          "output_type": "stream",
          "name": "stdout",
          "text": [
            "'this': 2\n",
            "'is': 1\n",
            "'a': 1\n",
            "'sample': 1\n",
            "'text': 2\n",
            "'will': 1\n",
            "'be': 1\n",
            "'used': 1\n",
            "'to': 1\n",
            "'demonstrate': 1\n",
            "'the': 1\n",
            "'word': 1\n",
            "'counter': 1\n"
          ]
        }
      ]
    },
    {
      "cell_type": "markdown",
      "source": [
        "# **Exercise 5: Check for Palindrome**"
      ],
      "metadata": {
        "id": "OUOYzD-YoOkd"
      }
    },
    {
      "cell_type": "code",
      "source": [
        "def is_palindrome(s):\n",
        "    \"\"\"Check if a string is a palindrome.\"\"\"\n",
        "    cleaned_str = ''.join(char.lower() for char in s if char.isalnum())  # Remove punctuation and spaces\n",
        "    return cleaned_str == cleaned_str[::-1]  # Check if the string reads the same forwards and backwards\n",
        "\n",
        "\n",
        "# Example usage\n",
        "print(is_palindrome(\"racecar\"))      # Output: True\n",
        "print(is_palindrome(\"A man, a plan, a canal, Panama!\"))  # Output: True\n",
        "print(is_palindrome(\"hello\"))        # Output: False"
      ],
      "metadata": {
        "colab": {
          "base_uri": "https://localhost:8080/"
        },
        "id": "XAjLalYHoA9k",
        "outputId": "f85bb847-a071-4e16-dc51-48d1b9ef6441"
      },
      "execution_count": 8,
      "outputs": [
        {
          "output_type": "stream",
          "name": "stdout",
          "text": [
            "True\n",
            "True\n",
            "False\n"
          ]
        }
      ]
    },
    {
      "cell_type": "code",
      "source": [],
      "metadata": {
        "id": "T0dY2lwvvH6I"
      },
      "execution_count": null,
      "outputs": []
    }
  ]
}