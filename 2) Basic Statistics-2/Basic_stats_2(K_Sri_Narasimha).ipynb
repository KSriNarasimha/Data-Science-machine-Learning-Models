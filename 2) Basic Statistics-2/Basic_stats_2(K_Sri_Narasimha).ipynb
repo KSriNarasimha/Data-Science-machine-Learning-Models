{
  "nbformat": 4,
  "nbformat_minor": 0,
  "metadata": {
    "colab": {
      "provenance": []
    },
    "kernelspec": {
      "name": "python3",
      "display_name": "Python 3"
    },
    "language_info": {
      "name": "python"
    }
  },
  "cells": [
    {
      "cell_type": "markdown",
      "source": [
        "# ***Import Basic Libraries***"
      ],
      "metadata": {
        "id": "-8GZCGw3EPgE"
      }
    },
    {
      "cell_type": "code",
      "execution_count": 59,
      "metadata": {
        "id": "r7gpCy6f1h97"
      },
      "outputs": [],
      "source": [
        "import numpy as np\n",
        "import scipy.stats as stats"
      ]
    },
    {
      "cell_type": "code",
      "source": [
        "#Sample data Given\n",
        "data = np.array([1.13, 1.55, 1.43, 0.92, 1.25, 1.36, 1.32, 0.85, 1.07, 1.48, 1.20, 1.33, 1.18, 1.22, 1.29])"
      ],
      "metadata": {
        "id": "HWmj1V0-1xwZ"
      },
      "execution_count": 60,
      "outputs": []
    },
    {
      "cell_type": "markdown",
      "source": [
        "# **Sample** **Statistics**"
      ],
      "metadata": {
        "id": "ac2xYBWd22Ih"
      }
    },
    {
      "cell_type": "code",
      "source": [
        "#Length of the data given\n",
        "n = len(data)\n",
        "#sample Mean\n",
        "mean = np.mean(data)\n",
        "#sample standard deviation\n",
        "sample_std = np.std(data, ddof = 1)"
      ],
      "metadata": {
        "id": "BKPBpShl3F0C"
      },
      "execution_count": 61,
      "outputs": []
    },
    {
      "cell_type": "code",
      "source": [
        "#sample size, sample mean, sample standard deviation\n",
        "n, mean, sample_std"
      ],
      "metadata": {
        "colab": {
          "base_uri": "https://localhost:8080/"
        },
        "id": "t9RE4CDf4bAb",
        "outputId": "9a60b1ee-c05d-4761-bf58-8d0d7ebd65e3"
      },
      "execution_count": 62,
      "outputs": [
        {
          "output_type": "execute_result",
          "data": {
            "text/plain": [
              "(15, 1.2386666666666666, 0.19316412956959936)"
            ]
          },
          "metadata": {},
          "execution_count": 62
        }
      ]
    },
    {
      "cell_type": "markdown",
      "source": [
        "# **A) 99% Confidence Interval Using Sample Standard Deviation**"
      ],
      "metadata": {
        "id": "5wlHs8W45ZOB"
      }
    },
    {
      "cell_type": "code",
      "source": [
        "# 99% Confidence Interval using Sample Standard Deviation\n",
        "confidence_level_A = 0.99\n",
        "alpha_A = 1- confidence_level_A\n",
        "\n",
        "# As we dont have population sample standard deviation and sample is small we use T-Distribution (t-test) Here\n",
        "t_score_A = stats.t.ppf(1-alpha_A/2, df = n-1) # t-distribution critical value\n"
      ],
      "metadata": {
        "id": "JTsfUiVj4d28"
      },
      "execution_count": 63,
      "outputs": []
    },
    {
      "cell_type": "code",
      "source": [
        "t_score_A # T-Score"
      ],
      "metadata": {
        "colab": {
          "base_uri": "https://localhost:8080/"
        },
        "id": "9lauds0h6acQ",
        "outputId": "b17ec4a4-5c08-4b72-ce16-86dfc5feb208"
      },
      "execution_count": 64,
      "outputs": [
        {
          "output_type": "execute_result",
          "data": {
            "text/plain": [
              "2.976842734370834"
            ]
          },
          "metadata": {},
          "execution_count": 64
        }
      ]
    },
    {
      "cell_type": "code",
      "source": [
        "margin_of_error_A = t_score_A * (sample_std / np.sqrt(n))\n"
      ],
      "metadata": {
        "id": "1kKv3rOQ6ggP"
      },
      "execution_count": 65,
      "outputs": []
    },
    {
      "cell_type": "code",
      "source": [
        "margin_of_error_A #Margin of error"
      ],
      "metadata": {
        "colab": {
          "base_uri": "https://localhost:8080/"
        },
        "id": "rfk-4_ii8KqX",
        "outputId": "d21612aa-b8a3-4b20-9d64-e58605c88b2c"
      },
      "execution_count": 66,
      "outputs": [
        {
          "output_type": "execute_result",
          "data": {
            "text/plain": [
              "0.14846932822817596"
            ]
          },
          "metadata": {},
          "execution_count": 66
        }
      ]
    },
    {
      "cell_type": "code",
      "source": [
        "# For CONFIDENCE INTERVAL (Range)\n",
        "# Condidence Interval (CI_B)\n",
        "CI_A = (mean - margin_of_error_A, mean + margin_of_error_A)"
      ],
      "metadata": {
        "id": "0p-2cZcs8Sge"
      },
      "execution_count": 67,
      "outputs": []
    },
    {
      "cell_type": "code",
      "source": [
        "# Output for part (A) -->> 99% Confidence Interval Using Sample Standard Deviation\n",
        "print(f\"99% Confidence Interval (Sample Std): {CI_A}\")"
      ],
      "metadata": {
        "colab": {
          "base_uri": "https://localhost:8080/"
        },
        "id": "7P7HMlYG7YVN",
        "outputId": "433f4eb0-40d2-48d0-89be-5c13af81b17e"
      },
      "execution_count": 68,
      "outputs": [
        {
          "output_type": "stream",
          "name": "stdout",
          "text": [
            "99% Confidence Interval (Sample Std): (1.0901973384384906, 1.3871359948948425)\n"
          ]
        }
      ]
    },
    {
      "cell_type": "markdown",
      "source": [
        "# **B) 99% Confidence Interval using Known Population Standard Deviation**"
      ],
      "metadata": {
        "id": "lKyxLaS49Ug2"
      }
    },
    {
      "cell_type": "code",
      "source": [
        "population_std = 0.25 # known population standard deviation (Give)\n",
        "\n",
        "confidence_level_B = 0.99\n",
        "alpha_B = 1- confidence_level_B\n",
        "\n",
        "# We Use Z-Score if we have Population standard deviation, So,we wont use T-Distribution (T-Score) here\n",
        "z_score_B = stats.norm.ppf(1-alpha_B/2)\n"
      ],
      "metadata": {
        "id": "ruruHo349Zkp"
      },
      "execution_count": 69,
      "outputs": []
    },
    {
      "cell_type": "code",
      "source": [
        "# Z-Score\n",
        "print(z_score_B)"
      ],
      "metadata": {
        "colab": {
          "base_uri": "https://localhost:8080/"
        },
        "id": "9MaeM7L0-JaP",
        "outputId": "e488eb35-0d00-4a2a-f00b-6f80e4fb1bf9"
      },
      "execution_count": 70,
      "outputs": [
        {
          "output_type": "stream",
          "name": "stdout",
          "text": [
            "2.5758293035489004\n"
          ]
        }
      ]
    },
    {
      "cell_type": "code",
      "source": [
        "margin_of_error_B = z_score_B*(population_std/np.sqrt(n))\n"
      ],
      "metadata": {
        "id": "Aek5i5GK-5W4"
      },
      "execution_count": 71,
      "outputs": []
    },
    {
      "cell_type": "code",
      "source": [
        "# Margin of error For known Population standard devaition\n",
        "print(margin_of_error_B)"
      ],
      "metadata": {
        "colab": {
          "base_uri": "https://localhost:8080/"
        },
        "id": "tRN1i1Wd_PSf",
        "outputId": "88ebba93-e999-4090-afb1-dca6aef80f6a"
      },
      "execution_count": 72,
      "outputs": [
        {
          "output_type": "stream",
          "name": "stdout",
          "text": [
            "0.16626906658863233\n"
          ]
        }
      ]
    },
    {
      "cell_type": "code",
      "source": [
        "# Condidence Interval (CI_B)\n",
        "CI_B = (mean - margin_of_error_B,mean+margin_of_error_B)"
      ],
      "metadata": {
        "id": "gTltWPQ3_UXt"
      },
      "execution_count": 73,
      "outputs": []
    },
    {
      "cell_type": "code",
      "source": [
        "# Output for part-(B) 99% Confidence Interval using Known Population Standard Deviation\n",
        "print(f\"99% Confidence Interval (Population Std): {CI_B}\")"
      ],
      "metadata": {
        "colab": {
          "base_uri": "https://localhost:8080/"
        },
        "id": "8RTe3o-oCwRH",
        "outputId": "dce46476-287f-43c2-b1ac-e0f1ee474950"
      },
      "execution_count": 74,
      "outputs": [
        {
          "output_type": "stream",
          "name": "stdout",
          "text": [
            "99% Confidence Interval (Population Std): (1.0723976000780342, 1.404935733255299)\n"
          ]
        }
      ]
    },
    {
      "cell_type": "markdown",
      "source": [
        "# **Fianl Output**"
      ],
      "metadata": {
        "id": "aLf3j0oJDovG"
      }
    },
    {
      "cell_type": "code",
      "source": [
        "print(f\"99% Confidence Interval (Sample Std): {CI_A}\")\n",
        "print(f\"99% Confidence Interval (Population Std): {CI_B}\")\n"
      ],
      "metadata": {
        "colab": {
          "base_uri": "https://localhost:8080/"
        },
        "id": "0IuKtbvaDtNq",
        "outputId": "58f981ef-1d80-45ee-c038-bb5d580a5335"
      },
      "execution_count": 75,
      "outputs": [
        {
          "output_type": "stream",
          "name": "stdout",
          "text": [
            "99% Confidence Interval (Sample Std): (1.0901973384384906, 1.3871359948948425)\n",
            "99% Confidence Interval (Population Std): (1.0723976000780342, 1.404935733255299)\n"
          ]
        }
      ]
    }
  ]
}